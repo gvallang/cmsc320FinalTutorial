{
 "cells": [
  {
   "cell_type": "markdown",
   "metadata": {},
   "source": [
    "## Overview\n",
    "\n",
    "In the world of team sports, it is known that players’ athletic abilities and their individual performance are important critical factors in the industry. The motivation for this final tutorial is to investigate the impact of player’s individual effort in the National Basketball Association or NBA. This tutorial will analyze Golden State Wariors' statistical data with a focus on Box Plus/Minus, and will hope to find correlation with players’ individual and team success between 2011-2015 seasons. \n",
    "\n",
    "The first part  will include data collecting of players’ Box Plus/Minus and other supporting individual stats and data cleaning processes. The second part will demonstrate how to analyze the given data from year 2011 to 2015, and display visualization. The third part will come up with a linear regression model to process the analysis and verify the hypotheses implied from it.\n",
    "\n",
    "Before starting explaining Box Plus/Minus or BPM is needed in order to have a better understanding of the data during analyzation. According to Basketball-Reference’s website, BPM is a box-score based metric for evaluating players in the NBA for their performance through individual approximate contribution for their team. BPM is a per-100-possession stat: 0.0 is league average, +5 means the player is 5 points better than an average player over 100 possessions (which is about All-NBA level), -2 is replacement level, and -5 is really bad.\n",
    "\n",
    "\n",
    "## Required Tools\n",
    "\n",
    "In order to create and share documents that contain live Python code, equations, visualizations and narrative text for data analysis in this tutoral using Jupyter Notebook is recommended; it includes data cleaning and transformation, statistical modeling, data visualization, machine learning and etc. Jupyter Notebook also have built in libraries that is needed for this tutorial, which are the following:\n",
    "1. Pandas\n",
    "2. Numpy\n",
    "3. Scikit-learn\n",
    "4. Matplotlib\n",
    "6. Ggplot\n",
    "5. Folium\n",
    "\n",
    "For the dataset, the NBA playes' and teams' data can be retrived at https://www.kaggle.com \n"
   ]
  },
  {
   "cell_type": "code",
   "execution_count": 852,
   "metadata": {},
   "outputs": [
    {
     "name": "stdout",
     "output_type": "stream",
     "text": [
      "Requirement already satisfied: ggplot in /opt/conda/lib/python3.6/site-packages\n",
      "Requirement already satisfied: patsy>=0.4 in /opt/conda/lib/python3.6/site-packages (from ggplot)\n",
      "Requirement already satisfied: statsmodels in /opt/conda/lib/python3.6/site-packages (from ggplot)\n",
      "Requirement already satisfied: six in /opt/conda/lib/python3.6/site-packages (from ggplot)\n",
      "Requirement already satisfied: pandas in /opt/conda/lib/python3.6/site-packages (from ggplot)\n",
      "Requirement already satisfied: numpy in /opt/conda/lib/python3.6/site-packages (from ggplot)\n",
      "Requirement already satisfied: cycler in /opt/conda/lib/python3.6/site-packages/cycler-0.10.0-py3.6.egg (from ggplot)\n",
      "Requirement already satisfied: matplotlib in /opt/conda/lib/python3.6/site-packages (from ggplot)\n",
      "Requirement already satisfied: scipy in /opt/conda/lib/python3.6/site-packages (from ggplot)\n",
      "Requirement already satisfied: brewer2mpl in /opt/conda/lib/python3.6/site-packages (from ggplot)\n",
      "Requirement already satisfied: python-dateutil>=2 in /opt/conda/lib/python3.6/site-packages (from pandas->ggplot)\n",
      "Requirement already satisfied: pytz>=2011k in /opt/conda/lib/python3.6/site-packages (from pandas->ggplot)\n",
      "Requirement already satisfied: pyparsing!=2.0.4,!=2.1.2,!=2.1.6,>=1.5.6 in /opt/conda/lib/python3.6/site-packages (from matplotlib->ggplot)\n",
      "Requirement already satisfied: folium in /opt/conda/lib/python3.6/site-packages\n",
      "Requirement already satisfied: six in /opt/conda/lib/python3.6/site-packages (from folium)\n",
      "Requirement already satisfied: requests in /opt/conda/lib/python3.6/site-packages (from folium)\n",
      "Requirement already satisfied: branca in /opt/conda/lib/python3.6/site-packages (from folium)\n",
      "Requirement already satisfied: jinja2 in /opt/conda/lib/python3.6/site-packages (from folium)\n",
      "Requirement already satisfied: chardet<3.1.0,>=3.0.2 in /opt/conda/lib/python3.6/site-packages (from requests->folium)\n",
      "Requirement already satisfied: idna<2.7,>=2.5 in /opt/conda/lib/python3.6/site-packages (from requests->folium)\n",
      "Requirement already satisfied: urllib3<1.23,>=1.21.1 in /opt/conda/lib/python3.6/site-packages (from requests->folium)\n",
      "Requirement already satisfied: certifi>=2017.4.17 in /opt/conda/lib/python3.6/site-packages (from requests->folium)\n",
      "Requirement already satisfied: MarkupSafe>=0.23 in /opt/conda/lib/python3.6/site-packages (from jinja2->folium)\n"
     ]
    }
   ],
   "source": [
    "#Import needed libraries\n",
    "!pip install ggplot\n",
    "!pip install folium\n",
    "from bs4 import BeautifulSoup, SoupStrainer\n",
    "import requests\n",
    "import pandas as pd\n",
    "import numpy as np\n",
    "import folium\n",
    "import matplotlib.pyplot as plt\n",
    "%matplotlib inline\n",
    "import ggplot\n",
    "from ggplot import *\n",
    "from sklearn import linear_model\n"
   ]
  },
  {
   "cell_type": "markdown",
   "metadata": {},
   "source": [
    "# Place Holder: Please CHANGE\n",
    "\n",
    "# Part 1: Data Preparation\n",
    "\n",
    "The first thing we need to do is download the dataset at https://www.kaggle.com/murderaccountability/homicide-reports/data. The file downloaded will be in form of a CSV (comma-separated value) called database.csv. Then, we have to load the file to our Jupyter Notebook in order to process the data within it. To do this, pandas libraries will help us initialize the data in nice frames and columns. If you are unfamiliar with pandas, its documentation can be found at:\n",
    "\n",
    "* Complete Documentation: https://pandas.pydata.org/pandas-docs/stable/\n",
    "* Pandas Cheat Sheet: https://www.datacamp.com/community/blog/python-pandas-cheat-sheet"
   ]
  },
  {
   "cell_type": "code",
   "execution_count": 853,
   "metadata": {
    "scrolled": true
   },
   "outputs": [],
   "source": [
    "# Create the dataframe from the csv file\n",
    "players = pd.read_csv(\"Seasons_Stats.csv\")\n",
    "teams  = pd.read_excel(\"Historical NBA Performance.xlsx\")"
   ]
  },
  {
   "cell_type": "markdown",
   "metadata": {},
   "source": [
    "## 1.1 Data Overview\n",
    "The data contains some crucial information for us to analyze such as the season year, player, age, minutes played, number of games played, position, team, and most especially, BPM for Players Table. And season year, team, and winning percentage for Team Table."
   ]
  },
  {
   "cell_type": "markdown",
   "metadata": {},
   "source": [
    "## 1.2 Data Tidying: Create Golden State Warriors Tables\n",
    "\n",
    "When we look at the data table, there are several columns that seem to be unnecessary to our analysis such as the number of steals, blocks field goal, and etc. In this case, we filtered out these columns since we do not need them for our analysis.\n",
    "\n",
    "We also thought to combine some columns as it will help in our analization, such as Minutes Played per Game. There are also plenty of missing statistics based on year so we decided to focus on 2009-2016 seasons. 2009 is also the year Stephen Curry got drafted by the GSW, which is the team we will be observing. "
   ]
  },
  {
   "cell_type": "code",
   "execution_count": 854,
   "metadata": {},
   "outputs": [
    {
     "data": {
      "text/html": [
       "<div>\n",
       "<table border=\"1\" class=\"dataframe\">\n",
       "  <thead>\n",
       "    <tr style=\"text-align: right;\">\n",
       "      <th></th>\n",
       "      <th>Year</th>\n",
       "      <th>Player</th>\n",
       "      <th>Age</th>\n",
       "      <th>G</th>\n",
       "      <th>MP</th>\n",
       "      <th>Pos</th>\n",
       "      <th>Tm</th>\n",
       "      <th>PER</th>\n",
       "      <th>BPM</th>\n",
       "      <th>MP/G</th>\n",
       "    </tr>\n",
       "  </thead>\n",
       "  <tbody>\n",
       "    <tr>\n",
       "      <th>100</th>\n",
       "      <td>2015.0</td>\n",
       "      <td>Festus Ezeli</td>\n",
       "      <td>26.0</td>\n",
       "      <td>46.0</td>\n",
       "      <td>770.0</td>\n",
       "      <td>C</td>\n",
       "      <td>GSW</td>\n",
       "      <td>17.7</td>\n",
       "      <td>-0.1</td>\n",
       "      <td>16</td>\n",
       "    </tr>\n",
       "    <tr>\n",
       "      <th>44</th>\n",
       "      <td>2011.0</td>\n",
       "      <td>Kwame Brown</td>\n",
       "      <td>29.0</td>\n",
       "      <td>9.0</td>\n",
       "      <td>187.0</td>\n",
       "      <td>C</td>\n",
       "      <td>GSW</td>\n",
       "      <td>11.1</td>\n",
       "      <td>-6.2</td>\n",
       "      <td>20</td>\n",
       "    </tr>\n",
       "    <tr>\n",
       "      <th>5</th>\n",
       "      <td>2009.0</td>\n",
       "      <td>Anthony Tolliver</td>\n",
       "      <td>24.0</td>\n",
       "      <td>44.0</td>\n",
       "      <td>1423.0</td>\n",
       "      <td>PF</td>\n",
       "      <td>GSW</td>\n",
       "      <td>13.7</td>\n",
       "      <td>-0.4</td>\n",
       "      <td>32</td>\n",
       "    </tr>\n",
       "    <tr>\n",
       "      <th>95</th>\n",
       "      <td>2015.0</td>\n",
       "      <td>Shaun Livingston</td>\n",
       "      <td>30.0</td>\n",
       "      <td>78.0</td>\n",
       "      <td>1520.0</td>\n",
       "      <td>PG</td>\n",
       "      <td>GSW</td>\n",
       "      <td>13.8</td>\n",
       "      <td>-0.5</td>\n",
       "      <td>19</td>\n",
       "    </tr>\n",
       "    <tr>\n",
       "      <th>11</th>\n",
       "      <td>2009.0</td>\n",
       "      <td>Vladimir Radmanovic</td>\n",
       "      <td>29.0</td>\n",
       "      <td>33.0</td>\n",
       "      <td>758.0</td>\n",
       "      <td>PF</td>\n",
       "      <td>GSW</td>\n",
       "      <td>7.9</td>\n",
       "      <td>-4.3</td>\n",
       "      <td>22</td>\n",
       "    </tr>\n",
       "  </tbody>\n",
       "</table>\n",
       "</div>"
      ],
      "text/plain": [
       "       Year               Player   Age     G      MP Pos   Tm   PER  BPM  MP/G\n",
       "100  2015.0         Festus Ezeli  26.0  46.0   770.0   C  GSW  17.7 -0.1    16\n",
       "44   2011.0          Kwame Brown  29.0   9.0   187.0   C  GSW  11.1 -6.2    20\n",
       "5    2009.0     Anthony Tolliver  24.0  44.0  1423.0  PF  GSW  13.7 -0.4    32\n",
       "95   2015.0     Shaun Livingston  30.0  78.0  1520.0  PG  GSW  13.8 -0.5    19\n",
       "11   2009.0  Vladimir Radmanovic  29.0  33.0   758.0  PF  GSW   7.9 -4.3    22"
      ]
     },
     "execution_count": 854,
     "metadata": {},
     "output_type": "execute_result"
    }
   ],
   "source": [
    "#Filter columns that is needed\n",
    "GSW = players.filter(['Year','Player', 'Age', 'G', 'MP', 'Pos','Tm', 'PER', 'BPM'], axis=1)\n",
    "GSW['MP/G'] = (GSW['MP'] / GSW['G']).fillna(0).astype(int)\n",
    "\n",
    "# For simplicity, the beginning of the season year is the name of season. (ie 2015 season is 2015-2016 season)\n",
    "GSW['Year'] = GSW['Year'] - 1\n",
    "\n",
    "# Remove seasons that are not between from 2009 - 2016 seasons\n",
    "GSW = GSW.drop(GSW[GSW.Year < 2009].index)\n",
    "GSW = GSW.drop(GSW[GSW.Year > 2016].index)\n",
    "\n",
    "GSW = GSW[np.isfinite(GSW['Year'])]\n",
    "\n",
    "# Only get top 15 players with highest Minutes Played for each season\n",
    "GSW = GSW.drop(GSW[GSW.Tm != \"GSW\"].index)\n",
    "GSW = GSW.groupby(GSW['Year'], as_index=False)\n",
    "GSW = GSW.apply(lambda x : x.sort_values(by=\"MP\", ascending=False).head(15))\n",
    "GSW = GSW.reset_index().drop('level_1', 1).drop('level_0', 1)\n",
    "GSW.sample(5)"
   ]
  },
  {
   "cell_type": "markdown",
   "metadata": {},
   "source": [
    "When we look at the data table, there are several rows where the year's data type is datetime, which we converted to an integer. Also to make it compatible with the Players Table, we also focus on 2009-2016 seasons and dropped rows that doesn't fit the criteria."
   ]
  },
  {
   "cell_type": "code",
   "execution_count": 855,
   "metadata": {},
   "outputs": [
    {
     "data": {
      "text/html": [
       "<div>\n",
       "<table border=\"1\" class=\"dataframe\">\n",
       "  <thead>\n",
       "    <tr style=\"text-align: right;\">\n",
       "      <th></th>\n",
       "      <th>Year</th>\n",
       "      <th>Team</th>\n",
       "      <th>Winning Percentage</th>\n",
       "    </tr>\n",
       "  </thead>\n",
       "  <tbody>\n",
       "    <tr>\n",
       "      <th>258</th>\n",
       "      <td>2016</td>\n",
       "      <td>Cavaliers</td>\n",
       "      <td>0.714</td>\n",
       "    </tr>\n",
       "    <tr>\n",
       "      <th>1000</th>\n",
       "      <td>2010</td>\n",
       "      <td>Magic</td>\n",
       "      <td>0.634</td>\n",
       "    </tr>\n",
       "    <tr>\n",
       "      <th>862</th>\n",
       "      <td>2012</td>\n",
       "      <td>Hornets</td>\n",
       "      <td>0.329</td>\n",
       "    </tr>\n",
       "    <tr>\n",
       "      <th>574</th>\n",
       "      <td>2015</td>\n",
       "      <td>Pacers</td>\n",
       "      <td>0.549</td>\n",
       "    </tr>\n",
       "    <tr>\n",
       "      <th>576</th>\n",
       "      <td>2013</td>\n",
       "      <td>Pacers</td>\n",
       "      <td>0.683</td>\n",
       "    </tr>\n",
       "  </tbody>\n",
       "</table>\n",
       "</div>"
      ],
      "text/plain": [
       "      Year       Team  Winning Percentage\n",
       "258   2016  Cavaliers               0.714\n",
       "1000  2010      Magic               0.634\n",
       "862   2012    Hornets               0.329\n",
       "574   2015     Pacers               0.549\n",
       "576   2013     Pacers               0.683"
      ]
     },
     "execution_count": 855,
     "metadata": {},
     "output_type": "execute_result"
    }
   ],
   "source": [
    "#Filter columns that is needed\n",
    "teams = teams.filter(['Year','Team', 'Winning Percentage'], axis=1)\n",
    "\n",
    "#Convert Year data to int\n",
    "teams[\"Year\"] = teams[\"Year\"].fillna('')\n",
    "teams[\"Year\"] = teams[\"Year\"].apply(lambda x: int(x[:4]) if isinstance(x, str) else int(str(x.year)))\n",
    "\n",
    "teams = teams.drop(teams[teams.Year < 2009].index)\n",
    "teams = teams.drop(teams[teams.Year > 2016].index)\n",
    "warriors_bpm_stat\n",
    "#Tidy the data by filtering which columns will be needed for this tutorial\n",
    "teams = teams.filter(['Year','Team', 'Winning Percentage'], axis=1)\n",
    "teams.sample(5).head()"
   ]
  },
  {
   "cell_type": "markdown",
   "metadata": {},
   "source": [
    "### 1.2.1 Create Necessary Tables\n",
    "\n",
    "#### Yearly BPM For GSW\n",
    "Next, in order to serve the purpose of the analysis, we created a statistical table for BPM which will help us later on analysis. The table consists of the Over all BPM Average, Max BPM, Min BPM, and Std BPM for each year of the given seasons (2009-2016) for the Golden State Warriors"
   ]
  },
  {
   "cell_type": "code",
   "execution_count": 856,
   "metadata": {},
   "outputs": [
    {
     "data": {
      "text/html": [
       "<div>\n",
       "<table border=\"1\" class=\"dataframe\">\n",
       "  <thead>\n",
       "    <tr style=\"text-align: right;\">\n",
       "      <th></th>\n",
       "      <th>Year</th>\n",
       "      <th>Avg</th>\n",
       "      <th>Max</th>\n",
       "      <th>Min</th>\n",
       "      <th>Std</th>\n",
       "    </tr>\n",
       "  </thead>\n",
       "  <tbody>\n",
       "    <tr>\n",
       "      <th>0</th>\n",
       "      <td>2009.0</td>\n",
       "      <td>-1.053333</td>\n",
       "      <td>1.0</td>\n",
       "      <td>-4.3</td>\n",
       "      <td>1.455466</td>\n",
       "    </tr>\n",
       "    <tr>\n",
       "      <th>1</th>\n",
       "      <td>2010.0</td>\n",
       "      <td>-1.993333</td>\n",
       "      <td>1.9</td>\n",
       "      <td>-7.3</td>\n",
       "      <td>2.804452</td>\n",
       "    </tr>\n",
       "    <tr>\n",
       "      <th>2</th>\n",
       "      <td>2011.0</td>\n",
       "      <td>-1.566667</td>\n",
       "      <td>3.4</td>\n",
       "      <td>-7.0</td>\n",
       "      <td>2.993962</td>\n",
       "    </tr>\n",
       "    <tr>\n",
       "      <th>3</th>\n",
       "      <td>2012.0</td>\n",
       "      <td>-2.053333</td>\n",
       "      <td>5.4</td>\n",
       "      <td>-11.5</td>\n",
       "      <td>4.333073</td>\n",
       "    </tr>\n",
       "    <tr>\n",
       "      <th>4</th>\n",
       "      <td>2013.0</td>\n",
       "      <td>-0.960000</td>\n",
       "      <td>7.4</td>\n",
       "      <td>-10.6</td>\n",
       "      <td>4.563645</td>\n",
       "    </tr>\n",
       "    <tr>\n",
       "      <th>5</th>\n",
       "      <td>2014.0</td>\n",
       "      <td>0.726667</td>\n",
       "      <td>9.9</td>\n",
       "      <td>-6.0</td>\n",
       "      <td>3.773302</td>\n",
       "    </tr>\n",
       "    <tr>\n",
       "      <th>6</th>\n",
       "      <td>2015.0</td>\n",
       "      <td>0.646667</td>\n",
       "      <td>12.5</td>\n",
       "      <td>-3.9</td>\n",
       "      <td>4.187373</td>\n",
       "    </tr>\n",
       "    <tr>\n",
       "      <th>7</th>\n",
       "      <td>2016.0</td>\n",
       "      <td>1.586667</td>\n",
       "      <td>8.0</td>\n",
       "      <td>-2.0</td>\n",
       "      <td>3.190357</td>\n",
       "    </tr>\n",
       "  </tbody>\n",
       "</table>\n",
       "</div>"
      ],
      "text/plain": [
       "     Year       Avg   Max   Min       Std\n",
       "0  2009.0 -1.053333   1.0  -4.3  1.455466\n",
       "1  2010.0 -1.993333   1.9  -7.3  2.804452\n",
       "2  2011.0 -1.566667   3.4  -7.0  2.993962\n",
       "3  2012.0 -2.053333   5.4 -11.5  4.333073\n",
       "4  2013.0 -0.960000   7.4 -10.6  4.563645\n",
       "5  2014.0  0.726667   9.9  -6.0  3.773302\n",
       "6  2015.0  0.646667  12.5  -3.9  4.187373\n",
       "7  2016.0  1.586667   8.0  -2.0  3.190357"
      ]
     },
     "execution_count": 856,
     "metadata": {},
     "output_type": "execute_result"
    }
   ],
   "source": [
    "#Average BPM per year from 2009 - 2016 seasons\n",
    "groupByYear = GSW.groupby(GSW['Year'])\n",
    "avg_BPM = groupByYear.mean().filter(['BPM'])\n",
    "avg_BPM[\"Max\"] = groupByYear.max().filter(['BPM'])\n",
    "avg_BPM[\"Min\"] = groupByYear.min().filter(['BPM'])\n",
    "avg_BPM[\"Std\"] = groupByYear.std().filter(['BPM'])\n",
    "avg_BPM = avg_BPM.reset_index().rename(index=str, columns={'BPM' : 'Avg'})\n",
    "avg_BPM"
   ]
  },
  {
   "cell_type": "markdown",
   "metadata": {},
   "source": [
    "#### BPM PER AGE \n",
    "Next, we created another statistical table for BPM which will help us later on analysis. The table consists of the Average BPM for each age, and the total number of players in each age in all given seasons (2009-2016) for the Golden State Warriors"
   ]
  },
  {
   "cell_type": "code",
   "execution_count": 857,
   "metadata": {
    "scrolled": true
   },
   "outputs": [
    {
     "data": {
      "text/html": [
       "<div>\n",
       "<table border=\"1\" class=\"dataframe\">\n",
       "  <thead>\n",
       "    <tr style=\"text-align: right;\">\n",
       "      <th></th>\n",
       "      <th>Age</th>\n",
       "      <th>Avg</th>\n",
       "      <th>Count</th>\n",
       "    </tr>\n",
       "  </thead>\n",
       "  <tbody>\n",
       "    <tr>\n",
       "      <th>0</th>\n",
       "      <td>20.0</td>\n",
       "      <td>-2.625000</td>\n",
       "      <td>4</td>\n",
       "    </tr>\n",
       "    <tr>\n",
       "      <th>1</th>\n",
       "      <td>21.0</td>\n",
       "      <td>-3.100000</td>\n",
       "      <td>5</td>\n",
       "    </tr>\n",
       "    <tr>\n",
       "      <th>2</th>\n",
       "      <td>22.0</td>\n",
       "      <td>-2.187500</td>\n",
       "      <td>8</td>\n",
       "    </tr>\n",
       "    <tr>\n",
       "      <th>3</th>\n",
       "      <td>23.0</td>\n",
       "      <td>-0.854545</td>\n",
       "      <td>11</td>\n",
       "    </tr>\n",
       "    <tr>\n",
       "      <th>4</th>\n",
       "      <td>24.0</td>\n",
       "      <td>-0.392857</td>\n",
       "      <td>14</td>\n",
       "    </tr>\n",
       "    <tr>\n",
       "      <th>5</th>\n",
       "      <td>25.0</td>\n",
       "      <td>-0.207692</td>\n",
       "      <td>13</td>\n",
       "    </tr>\n",
       "    <tr>\n",
       "      <th>6</th>\n",
       "      <td>26.0</td>\n",
       "      <td>0.225000</td>\n",
       "      <td>12</td>\n",
       "    </tr>\n",
       "    <tr>\n",
       "      <th>7</th>\n",
       "      <td>27.0</td>\n",
       "      <td>-0.937500</td>\n",
       "      <td>8</td>\n",
       "    </tr>\n",
       "    <tr>\n",
       "      <th>8</th>\n",
       "      <td>28.0</td>\n",
       "      <td>1.533333</td>\n",
       "      <td>6</td>\n",
       "    </tr>\n",
       "    <tr>\n",
       "      <th>9</th>\n",
       "      <td>29.0</td>\n",
       "      <td>-1.063636</td>\n",
       "      <td>11</td>\n",
       "    </tr>\n",
       "    <tr>\n",
       "      <th>10</th>\n",
       "      <td>30.0</td>\n",
       "      <td>0.728571</td>\n",
       "      <td>7</td>\n",
       "    </tr>\n",
       "    <tr>\n",
       "      <th>11</th>\n",
       "      <td>31.0</td>\n",
       "      <td>0.133333</td>\n",
       "      <td>6</td>\n",
       "    </tr>\n",
       "    <tr>\n",
       "      <th>12</th>\n",
       "      <td>32.0</td>\n",
       "      <td>-0.550000</td>\n",
       "      <td>6</td>\n",
       "    </tr>\n",
       "    <tr>\n",
       "      <th>13</th>\n",
       "      <td>33.0</td>\n",
       "      <td>-0.800000</td>\n",
       "      <td>4</td>\n",
       "    </tr>\n",
       "    <tr>\n",
       "      <th>14</th>\n",
       "      <td>34.0</td>\n",
       "      <td>-1.250000</td>\n",
       "      <td>2</td>\n",
       "    </tr>\n",
       "    <tr>\n",
       "      <th>15</th>\n",
       "      <td>35.0</td>\n",
       "      <td>-1.300000</td>\n",
       "      <td>1</td>\n",
       "    </tr>\n",
       "    <tr>\n",
       "      <th>16</th>\n",
       "      <td>36.0</td>\n",
       "      <td>1.400000</td>\n",
       "      <td>2</td>\n",
       "    </tr>\n",
       "  </tbody>\n",
       "</table>\n",
       "</div>"
      ],
      "text/plain": [
       "     Age       Avg  Count\n",
       "0   20.0 -2.625000      4\n",
       "1   21.0 -3.100000      5\n",
       "2   22.0 -2.187500      8\n",
       "3   23.0 -0.854545     11\n",
       "4   24.0 -0.392857     14\n",
       "5   25.0 -0.207692     13\n",
       "6   26.0  0.225000     12\n",
       "7   27.0 -0.937500      8\n",
       "8   28.0  1.533333      6\n",
       "9   29.0 -1.063636     11\n",
       "10  30.0  0.728571      7\n",
       "11  31.0  0.133333      6\n",
       "12  32.0 -0.550000      6\n",
       "13  33.0 -0.800000      4\n",
       "14  34.0 -1.250000      2\n",
       "15  35.0 -1.300000      1\n",
       "16  36.0  1.400000      2"
      ]
     },
     "execution_count": 857,
     "metadata": {},
     "output_type": "execute_result"
    }
   ],
   "source": [
    "#Average BPM per Age from 2009 - 2016 seasons\n",
    "groupByAge = GSW.groupby(GSW['Age'])\n",
    "age_BPM = groupByAge.mean().filter(['BPM'])\n",
    "age_BPM[\"Count\"] = groupByAge.agg(['count'])['Year']\n",
    "age_BPM = age_BPM.reset_index().rename(index=str, columns={'BPM' : 'Avg'})\n",
    "age_BPM"
   ]
  },
  {
   "cell_type": "markdown",
   "metadata": {},
   "source": [
    "#### POSITIONS BPM\n",
    "Next, we created another statistical table for BPM which will help us later on analysis. The table consists of the Average BPM for each Postion, and the total number of players in each position in all given seasons (2009-2016) for the Golden State Warriors"
   ]
  },
  {
   "cell_type": "code",
   "execution_count": 858,
   "metadata": {},
   "outputs": [
    {
     "data": {
      "text/html": [
       "<div>\n",
       "<table border=\"1\" class=\"dataframe\">\n",
       "  <thead>\n",
       "    <tr style=\"text-align: right;\">\n",
       "      <th></th>\n",
       "      <th>Pos</th>\n",
       "      <th>Avg</th>\n",
       "      <th>Count</th>\n",
       "    </tr>\n",
       "  </thead>\n",
       "  <tbody>\n",
       "    <tr>\n",
       "      <th>0</th>\n",
       "      <td>C</td>\n",
       "      <td>-0.960606</td>\n",
       "      <td>33</td>\n",
       "    </tr>\n",
       "    <tr>\n",
       "      <th>1</th>\n",
       "      <td>PF</td>\n",
       "      <td>-0.634783</td>\n",
       "      <td>23</td>\n",
       "    </tr>\n",
       "    <tr>\n",
       "      <th>2</th>\n",
       "      <td>PG</td>\n",
       "      <td>1.650000</td>\n",
       "      <td>18</td>\n",
       "    </tr>\n",
       "    <tr>\n",
       "      <th>3</th>\n",
       "      <td>SF</td>\n",
       "      <td>-0.109091</td>\n",
       "      <td>22</td>\n",
       "    </tr>\n",
       "    <tr>\n",
       "      <th>4</th>\n",
       "      <td>SG</td>\n",
       "      <td>-2.125000</td>\n",
       "      <td>24</td>\n",
       "    </tr>\n",
       "  </tbody>\n",
       "</table>\n",
       "</div>"
      ],
      "text/plain": [
       "  Pos       Avg  Count\n",
       "0   C -0.960606     33\n",
       "1  PF -0.634783     23\n",
       "2  PG  1.650000     18\n",
       "3  SF -0.109091     22\n",
       "4  SG -2.125000     24"
      ]
     },
     "execution_count": 858,
     "metadata": {},
     "output_type": "execute_result"
    }
   ],
   "source": [
    "#Average BPM per Position from 2009 - 2016 seasons\n",
    "groupByPos = GSW.groupby(GSW['Pos'])\n",
    "Pos_BPM = groupByPos.mean().filter(['BPM'])\n",
    "Pos_BPM[\"Count\"] = groupByPos.agg(['count'])['Year']\n",
    "Pos_BPM = Pos_BPM.reset_index().rename(index=str, columns={'BPM' : 'Avg'})\n",
    "Pos_BPM"
   ]
  },
  {
   "cell_type": "markdown",
   "metadata": {},
   "source": [
    "### Winning Percentage Per Year"
   ]
  },
  {
   "cell_type": "code",
   "execution_count": 859,
   "metadata": {},
   "outputs": [
    {
     "data": {
      "text/html": [
       "<div>\n",
       "<table border=\"1\" class=\"dataframe\">\n",
       "  <thead>\n",
       "    <tr style=\"text-align: right;\">\n",
       "      <th></th>\n",
       "      <th>Winning Percentage</th>\n",
       "      <th>BPM</th>\n",
       "    </tr>\n",
       "  </thead>\n",
       "  <tbody>\n",
       "    <tr>\n",
       "      <th>0</th>\n",
       "      <td>0.864</td>\n",
       "      <td>1.586667</td>\n",
       "    </tr>\n",
       "    <tr>\n",
       "      <th>1</th>\n",
       "      <td>0.890</td>\n",
       "      <td>0.646667</td>\n",
       "    </tr>\n",
       "    <tr>\n",
       "      <th>2</th>\n",
       "      <td>0.817</td>\n",
       "      <td>0.726667</td>\n",
       "    </tr>\n",
       "    <tr>\n",
       "      <th>3</th>\n",
       "      <td>0.622</td>\n",
       "      <td>-0.960000</td>\n",
       "    </tr>\n",
       "    <tr>\n",
       "      <th>4</th>\n",
       "      <td>0.573</td>\n",
       "      <td>-2.053333</td>\n",
       "    </tr>\n",
       "    <tr>\n",
       "      <th>5</th>\n",
       "      <td>0.348</td>\n",
       "      <td>-1.566667</td>\n",
       "    </tr>\n",
       "    <tr>\n",
       "      <th>6</th>\n",
       "      <td>0.439</td>\n",
       "      <td>-1.993333</td>\n",
       "    </tr>\n",
       "    <tr>\n",
       "      <th>7</th>\n",
       "      <td>0.317</td>\n",
       "      <td>-1.053333</td>\n",
       "    </tr>\n",
       "  </tbody>\n",
       "</table>\n",
       "</div>"
      ],
      "text/plain": [
       "   Winning Percentage       BPM\n",
       "0               0.864  1.586667\n",
       "1               0.890  0.646667\n",
       "2               0.817  0.726667\n",
       "3               0.622 -0.960000\n",
       "4               0.573 -2.053333\n",
       "5               0.348 -1.566667\n",
       "6               0.439 -1.993333\n",
       "7               0.317 -1.053333"
      ]
     },
     "execution_count": 859,
     "metadata": {},
     "output_type": "execute_result"
    }
   ],
   "source": [
    "#Average Winning Percentage per Year from 2009 - 2016 seasons\n",
    "groupByWP = teams.groupby(teams['Team'])\n",
    "WP = groupByWP.apply(lambda x : x)\n",
    "WP = WP.drop(WP[WP.Team != \"Warriors\"].index).filter(['Year', 'Winning Percentage'])\n",
    "WP.merge(avg_BPM).filter(['Winning Percentage','Avg']).rename(index=str, columns={'Avg' : 'BPM'})"
   ]
  },
  {
   "cell_type": "markdown",
   "metadata": {},
   "source": [
    "# PARAPHRASE THIS\n",
    "\n",
    "# Part 2: Data Analysis and Visualization\n",
    "At this point, our data is ready to analyze. In this part, we would like to visualize the data we just cleaned up with some plots and map in order to portray and explain the trend of BPM to the audience. Also, statistical measurement for this data is included as well.\n",
    "## 2.1 Overall Visualization\n",
    "\n",
    "### 2.1.1 BPM Per Year\n",
    "\n",
    "First thing we would like to analyze is the how BPM is scattered from the players every year in order to explain and visualize trends in BPM each year"
   ]
  },
  {
   "cell_type": "code",
   "execution_count": 860,
   "metadata": {
    "scrolled": false
   },
   "outputs": [
    {
     "data": {
      "image/png": "[encoded data removed]",
      "text/plain": [
       "<matplotlib.figure.Figure at 0x7fce1e44ca20>"
      ]
     },
     "metadata": {},
     "output_type": "display_data"
    }
   ],
   "source": [
    "import matplotlib.patches as mpatches\n",
    "\n",
    "#Plot all players' BPM per year\n",
    "plt.plot(GSW['Year'], GSW['BPM'], color = \"red\")\n",
    "plt.xticks(np.arange(2009, 2017, 1))\n",
    "plt.title(\"Year vs BPM\")\n",
    "plt.ylabel('Box Plus/Minus (BPM)')\n",
    "plt.xlabel('Year')\n",
    "red_patch = mpatches.Patch(color='red', label='GSW Players')\n",
    "plt.legend(handles=[red_patch])\n",
    "\n",
    "#Get the mean per year from the avg_BPM table created\n",
    "years = avg_BPM[\"Year\"].tolist()\n",
    "mean = avg_BPM[\"Avg\"].apply(lambda x : round(x, 1)).tolist()\n",
    "labels = ['AVG BPM: {0}'.format(i) for i in mean]\n",
    "\n",
    "#Show some visualization on where the mean stands\n",
    "plt.scatter(years, mean)\n",
    "x = 0\n",
    "for i, txt in enumerate(years):\n",
    "    txt = \"AVG BPM: \" + str(mean[i])\n",
    "    plt.annotate(\n",
    "        txt, \n",
    "        (years[i],mean[i]),\n",
    "        xytext=(70 + x, -50),\n",
    "        textcoords='offset points', ha='right', va='bottom',\n",
    "        bbox=dict(boxstyle='round,pad=.5', fc='white', alpha=0.1),\n",
    "        arrowprops=dict(arrowstyle = '->', connectionstyle='arc3,rad=.1'),)\n",
    "    x = x + 50\n",
    "plt.show()"
   ]
  },
  {
   "cell_type": "markdown",
   "metadata": {},
   "source": [
    "# INSERT YOUR THOUGHTS HERE\n",
    "about the above plot"
   ]
  },
  {
   "cell_type": "markdown",
   "metadata": {},
   "source": [
    "### 2.1.2 BPM Per Age\n",
    "Second thing we would like to analyze is how BPM is correlated on the age of basketball players"
   ]
  },
  {
   "cell_type": "code",
   "execution_count": 861,
   "metadata": {},
   "outputs": [
    {
     "data": {
      "image/png": "[encoded data removed]",
      "text/plain": [
       "<matplotlib.figure.Figure at 0x7fce160cd128>"
      ]
     },
     "metadata": {},
     "output_type": "display_data"
    },
    {
     "data": {
      "text/plain": [
       "<ggplot: (-9223363254160403775)>"
      ]
     },
     "execution_count": 861,
     "metadata": {},
     "output_type": "execute_result"
    }
   ],
   "source": [
    "ggplot(aes(x='Age', y='BPM'), data=players_age) +\\\n",
    "    geom_boxplot() +\\\n",
    "    ylim(-30,15) +\\\n",
    "    theme_bw() +\\\n",
    "    labs(title=\"Age vs BPM Over the Years\",\n",
    "         x = \"Age\",\n",
    "         y = \"BPM\")"
   ]
  },
  {
   "cell_type": "markdown",
   "metadata": {},
   "source": [
    "### 2.1.3 BPM Per Position"
   ]
  },
  {
   "cell_type": "code",
   "execution_count": 862,
   "metadata": {},
   "outputs": [
    {
     "data": {
      "image/png": "[encoded data removed]",
      "text/plain": [
       "<matplotlib.figure.Figure at 0x7fce161c0e10>"
      ]
     },
     "metadata": {},
     "output_type": "display_data"
    },
    {
     "data": {
      "text/plain": [
       "<ggplot: (-9223363254160697933)>"
      ]
     },
     "execution_count": 862,
     "metadata": {},
     "output_type": "execute_result"
    }
   ],
   "source": [
    "ggplot(aes(x='Pos', y='BPM'), data=GSW) +\\\n",
    "    geom_violin() +\\\n",
    "    theme_bw() +\\\n",
    "    ylim(-16,14) +\\\n",
    "    labs(title=\"Position vs Avg BPM\",\n",
    "         x = \"Position\",\n",
    "         y = \"BPM\")\n",
    "    "
   ]
  },
  {
   "cell_type": "markdown",
   "metadata": {},
   "source": [
    "# Part 3: Linear Regression and Hypothesis Test\n",
    "## 3.1 Linear Regression on BPM by YEAR"
   ]
  },
  {
   "cell_type": "code",
   "execution_count": 863,
   "metadata": {},
   "outputs": [
    {
     "data": {
      "image/png": "[encoded data removed]",
      "text/plain": [
       "<matplotlib.figure.Figure at 0x7fce16b995c0>"
      ]
     },
     "metadata": {},
     "output_type": "display_data"
    },
    {
     "name": "stdout",
     "output_type": "stream",
     "text": [
      "0.472063492063\n"
     ]
    }
   ],
   "source": [
    "#Linear Regression\n",
    "reg = linear_model.LinearRegression()\n",
    "X = [[x] for x in GSW['Year'].values]\n",
    "Y = [[y] for y in GSW['BPM'].values]\n",
    "regfit = reg.fit(X, Y)\n",
    "\n",
    "#Get predcited Values\n",
    "pred_BPM = []\n",
    "for x in GSW['Year'].values:\n",
    "    pred_BPM.append(regfit.predict(x)[0][0])\n",
    "GSW['pred_BPM'] = pd.Series(pred_BPM, index = GSW.index)\n",
    "\n",
    "#Plot the linear regression line with the data\n",
    "plt.plot(GSW['Year'], GSW['BPM'], color='blue',)\n",
    "plt.plot(GSW['Year'], GSW['pred_BPM'], color='red')\n",
    "plt.xlabel(\"Year\")\n",
    "plt.ylabel(\"BPM\")\n",
    "plt.title(\"BPM vs Year with Linear Regression\")\n",
    "\n",
    "plt.show()\n",
    "print(regfit.coef_[0][0])"
   ]
  },
  {
   "cell_type": "markdown",
   "metadata": {},
   "source": [
    "## 3.2 Linear Regression on BPM by AGE"
   ]
  },
  {
   "cell_type": "code",
   "execution_count": 864,
   "metadata": {},
   "outputs": [
    {
     "data": {
      "image/png": "[encoded data removed]",
      "text/plain": [
       "<matplotlib.figure.Figure at 0x7fce160d2b00>"
      ]
     },
     "metadata": {},
     "output_type": "display_data"
    },
    {
     "name": "stdout",
     "output_type": "stream",
     "text": [
      "0.140278607441\n"
     ]
    }
   ],
   "source": [
    "reg = linear_model.LinearRegression()\n",
    "X = [[x] for x in GSW['Age'].values]\n",
    "Y = [[y] for y in GSW['BPM'].values]\n",
    "regfit = reg.fit(X, Y)\n",
    "\n",
    "BPM_pred = reg.predict(X)\n",
    "\n",
    "plt.scatter(X, Y, color='blue')\n",
    "plt.plot(X, BPM_pred, color='red', linewidth=1)\n",
    "\n",
    "plt.title(\"BPM vs Age with Linear Regression\")\n",
    "plt.ylabel('Box Plus/Minus (BPM)')\n",
    "plt.xlabel('Age')\n",
    "\n",
    "plt.show()\n",
    "print(regfit.coef_[0][0])\n",
    "\n",
    "#Based on the linear regression model, the BPM is expected to increase by 0.0941158897364 as the player gets old."
   ]
  },
  {
   "cell_type": "markdown",
   "metadata": {},
   "source": [
    "## 3.2 Linear Regressions on BPM per Positions"
   ]
  },
  {
   "cell_type": "code",
   "execution_count": 865,
   "metadata": {},
   "outputs": [
    {
     "name": "stderr",
     "output_type": "stream",
     "text": [
      "/opt/conda/lib/python3.6/site-packages/ggplot/stats/stat_smooth.py:77: FutureWarning: sort(columns=....) is deprecated, use sort_values(by=.....)\n",
      "  smoothed_data = smoothed_data.sort('x')\n"
     ]
    },
    {
     "data": {
      "image/png": "[encoded data removed]",
      "text/plain": [
       "<matplotlib.figure.Figure at 0x7fce15620cf8>"
      ]
     },
     "metadata": {},
     "output_type": "display_data"
    },
    {
     "data": {
      "text/plain": [
       "<ggplot: (8782694371995)>"
      ]
     },
     "execution_count": 865,
     "metadata": {},
     "output_type": "execute_result"
    }
   ],
   "source": [
    "ggplot(aes(x='Year', y='BPM', color='Pos'), data=GSW) +\\\n",
    "    stat_smooth(method = \"lm\", se=True, span=0.02) +\\\n",
    "    geom_point(size=20) +\\\n",
    "    ylim(-10,8) +\\\n",
    "    xlim(2008.5,2016.5) +\\\n",
    "    theme_bw() +\\\n",
    "    labs(title=\"BPM Over The Years Per Position\",\n",
    "         x = \"Year\",\n",
    "         y = \"BPM\")"
   ]
  },
  {
   "cell_type": "code",
   "execution_count": 866,
   "metadata": {},
   "outputs": [
    {
     "data": {
      "text/html": [
       "<table class=\"simpletable\">\n",
       "<caption>OLS Regression Results</caption>\n",
       "<tr>\n",
       "  <th>Dep. Variable:</th>           <td>BPM</td>       <th>  R-squared:         </th> <td>   0.087</td>\n",
       "</tr>\n",
       "<tr>\n",
       "  <th>Model:</th>                   <td>OLS</td>       <th>  Adj. R-squared:    </th> <td>   0.080</td>\n",
       "</tr>\n",
       "<tr>\n",
       "  <th>Method:</th>             <td>Least Squares</td>  <th>  F-statistic:       </th> <td>   11.29</td>\n",
       "</tr>\n",
       "<tr>\n",
       "  <th>Date:</th>             <td>Fri, 15 Dec 2017</td> <th>  Prob (F-statistic):</th>  <td>0.00105</td>\n",
       "</tr>\n",
       "<tr>\n",
       "  <th>Time:</th>                 <td>01:36:35</td>     <th>  Log-Likelihood:    </th> <td> -320.52</td>\n",
       "</tr>\n",
       "<tr>\n",
       "  <th>No. Observations:</th>      <td>   120</td>      <th>  AIC:               </th> <td>   645.0</td>\n",
       "</tr>\n",
       "<tr>\n",
       "  <th>Df Residuals:</th>          <td>   118</td>      <th>  BIC:               </th> <td>   650.6</td>\n",
       "</tr>\n",
       "<tr>\n",
       "  <th>Df Model:</th>              <td>     1</td>      <th>                     </th>     <td> </td>   \n",
       "</tr>\n",
       "<tr>\n",
       "  <th>Covariance Type:</th>      <td>nonrobust</td>    <th>                     </th>     <td> </td>   \n",
       "</tr>\n",
       "</table>\n",
       "<table class=\"simpletable\">\n",
       "<tr>\n",
       "      <td></td>         <th>coef</th>     <th>std err</th>      <th>t</th>      <th>P>|t|</th>  <th>[0.025</th>    <th>0.975]</th>  \n",
       "</tr>\n",
       "<tr>\n",
       "  <th>Intercept</th> <td> -950.6111</td> <td>  282.792</td> <td>   -3.362</td> <td> 0.001</td> <td>-1510.615</td> <td> -390.607</td>\n",
       "</tr>\n",
       "<tr>\n",
       "  <th>Year</th>      <td>    0.4721</td> <td>    0.141</td> <td>    3.359</td> <td> 0.001</td> <td>    0.194</td> <td>    0.750</td>\n",
       "</tr>\n",
       "</table>\n",
       "<table class=\"simpletable\">\n",
       "<tr>\n",
       "  <th>Omnibus:</th>       <td> 5.863</td> <th>  Durbin-Watson:     </th> <td>   1.292</td>\n",
       "</tr>\n",
       "<tr>\n",
       "  <th>Prob(Omnibus):</th> <td> 0.053</td> <th>  Jarque-Bera (JB):  </th> <td>   9.037</td>\n",
       "</tr>\n",
       "<tr>\n",
       "  <th>Skew:</th>          <td> 0.085</td> <th>  Prob(JB):          </th> <td>  0.0109</td>\n",
       "</tr>\n",
       "<tr>\n",
       "  <th>Kurtosis:</th>      <td> 4.334</td> <th>  Cond. No.          </th> <td>1.77e+06</td>\n",
       "</tr>\n",
       "</table>"
      ],
      "text/plain": [
       "<class 'statsmodels.iolib.summary.Summary'>\n",
       "\"\"\"\n",
       "                            OLS Regression Results                            \n",
       "==============================================================================\n",
       "Dep. Variable:                    BPM   R-squared:                       0.087\n",
       "Model:                            OLS   Adj. R-squared:                  0.080\n",
       "Method:                 Least Squares   F-statistic:                     11.29\n",
       "Date:                Fri, 15 Dec 2017   Prob (F-statistic):            0.00105\n",
       "Time:                        01:36:35   Log-Likelihood:                -320.52\n",
       "No. Observations:                 120   AIC:                             645.0\n",
       "Df Residuals:                     118   BIC:                             650.6\n",
       "Df Model:                           1                                         \n",
       "Covariance Type:            nonrobust                                         \n",
       "==============================================================================\n",
       "                 coef    std err          t      P>|t|      [0.025      0.975]\n",
       "------------------------------------------------------------------------------\n",
       "Intercept   -950.6111    282.792     -3.362      0.001   -1510.615    -390.607\n",
       "Year           0.4721      0.141      3.359      0.001       0.194       0.750\n",
       "==============================================================================\n",
       "Omnibus:                        5.863   Durbin-Watson:                   1.292\n",
       "Prob(Omnibus):                  0.053   Jarque-Bera (JB):                9.037\n",
       "Skew:                           0.085   Prob(JB):                       0.0109\n",
       "Kurtosis:                       4.334   Cond. No.                     1.77e+06\n",
       "==============================================================================\n",
       "\n",
       "Warnings:\n",
       "[1] Standard Errors assume that the covariance matrix of the errors is correctly specified.\n",
       "[2] The condition number is large, 1.77e+06. This might indicate that there are\n",
       "strong multicollinearity or other numerical problems.\n",
       "\"\"\""
      ]
     },
     "execution_count": 866,
     "metadata": {},
     "output_type": "execute_result"
    }
   ],
   "source": [
    "from statsmodels.formula.api import ols\n",
    "#Fit the first regression\n",
    "regression = ols(formula='BPM ~ Year', data=GSW).fit()\n",
    "regression.summary()"
   ]
  },
  {
   "cell_type": "code",
   "execution_count": 867,
   "metadata": {},
   "outputs": [
    {
     "data": {
      "text/html": [
       "<table class=\"simpletable\">\n",
       "<caption>OLS Regression Results</caption>\n",
       "<tr>\n",
       "  <th>Dep. Variable:</th>           <td>BPM</td>       <th>  R-squared:         </th> <td>   0.021</td>\n",
       "</tr>\n",
       "<tr>\n",
       "  <th>Model:</th>                   <td>OLS</td>       <th>  Adj. R-squared:    </th> <td>   0.013</td>\n",
       "</tr>\n",
       "<tr>\n",
       "  <th>Method:</th>             <td>Least Squares</td>  <th>  F-statistic:       </th> <td>   2.573</td>\n",
       "</tr>\n",
       "<tr>\n",
       "  <th>Date:</th>             <td>Fri, 15 Dec 2017</td> <th>  Prob (F-statistic):</th>  <td> 0.111</td> \n",
       "</tr>\n",
       "<tr>\n",
       "  <th>Time:</th>                 <td>01:36:35</td>     <th>  Log-Likelihood:    </th> <td> -324.70</td>\n",
       "</tr>\n",
       "<tr>\n",
       "  <th>No. Observations:</th>      <td>   120</td>      <th>  AIC:               </th> <td>   653.4</td>\n",
       "</tr>\n",
       "<tr>\n",
       "  <th>Df Residuals:</th>          <td>   118</td>      <th>  BIC:               </th> <td>   659.0</td>\n",
       "</tr>\n",
       "<tr>\n",
       "  <th>Df Model:</th>              <td>     1</td>      <th>                     </th>     <td> </td>   \n",
       "</tr>\n",
       "<tr>\n",
       "  <th>Covariance Type:</th>      <td>nonrobust</td>    <th>                     </th>     <td> </td>   \n",
       "</tr>\n",
       "</table>\n",
       "<table class=\"simpletable\">\n",
       "<tr>\n",
       "      <td></td>         <th>coef</th>     <th>std err</th>      <th>t</th>      <th>P>|t|</th>  <th>[0.025</th>    <th>0.975]</th>  \n",
       "</tr>\n",
       "<tr>\n",
       "  <th>Intercept</th> <td>   -4.3066</td> <td>    2.345</td> <td>   -1.836</td> <td> 0.069</td> <td>   -8.951</td> <td>    0.337</td>\n",
       "</tr>\n",
       "<tr>\n",
       "  <th>Age</th>       <td>    0.1403</td> <td>    0.087</td> <td>    1.604</td> <td> 0.111</td> <td>   -0.033</td> <td>    0.313</td>\n",
       "</tr>\n",
       "</table>\n",
       "<table class=\"simpletable\">\n",
       "<tr>\n",
       "  <th>Omnibus:</th>       <td>10.112</td> <th>  Durbin-Watson:     </th> <td>   1.188</td>\n",
       "</tr>\n",
       "<tr>\n",
       "  <th>Prob(Omnibus):</th> <td> 0.006</td> <th>  Jarque-Bera (JB):  </th> <td>  15.209</td>\n",
       "</tr>\n",
       "<tr>\n",
       "  <th>Skew:</th>          <td> 0.398</td> <th>  Prob(JB):          </th> <td>0.000498</td>\n",
       "</tr>\n",
       "<tr>\n",
       "  <th>Kurtosis:</th>      <td> 4.552</td> <th>  Cond. No.          </th> <td>    189.</td>\n",
       "</tr>\n",
       "</table>"
      ],
      "text/plain": [
       "<class 'statsmodels.iolib.summary.Summary'>\n",
       "\"\"\"\n",
       "                            OLS Regression Results                            \n",
       "==============================================================================\n",
       "Dep. Variable:                    BPM   R-squared:                       0.021\n",
       "Model:                            OLS   Adj. R-squared:                  0.013\n",
       "Method:                 Least Squares   F-statistic:                     2.573\n",
       "Date:                Fri, 15 Dec 2017   Prob (F-statistic):              0.111\n",
       "Time:                        01:36:35   Log-Likelihood:                -324.70\n",
       "No. Observations:                 120   AIC:                             653.4\n",
       "Df Residuals:                     118   BIC:                             659.0\n",
       "Df Model:                           1                                         \n",
       "Covariance Type:            nonrobust                                         \n",
       "==============================================================================\n",
       "                 coef    std err          t      P>|t|      [0.025      0.975]\n",
       "------------------------------------------------------------------------------\n",
       "Intercept     -4.3066      2.345     -1.836      0.069      -8.951       0.337\n",
       "Age            0.1403      0.087      1.604      0.111      -0.033       0.313\n",
       "==============================================================================\n",
       "Omnibus:                       10.112   Durbin-Watson:                   1.188\n",
       "Prob(Omnibus):                  0.006   Jarque-Bera (JB):               15.209\n",
       "Skew:                           0.398   Prob(JB):                     0.000498\n",
       "Kurtosis:                       4.552   Cond. No.                         189.\n",
       "==============================================================================\n",
       "\n",
       "Warnings:\n",
       "[1] Standard Errors assume that the covariance matrix of the errors is correctly specified.\n",
       "\"\"\""
      ]
     },
     "execution_count": 867,
     "metadata": {},
     "output_type": "execute_result"
    }
   ],
   "source": [
    "#Fit the second regression\n",
    "regression2 = ols(formula='BPM ~ Age', data=GSW).fit()\n",
    "regression2.summary()"
   ]
  },
  {
   "cell_type": "code",
   "execution_count": 868,
   "metadata": {},
   "outputs": [
    {
     "data": {
      "text/html": [
       "<table class=\"simpletable\">\n",
       "<caption>OLS Regression Results</caption>\n",
       "<tr>\n",
       "  <th>Dep. Variable:</th>           <td>BPM</td>       <th>  R-squared:         </th> <td>   0.097</td>\n",
       "</tr>\n",
       "<tr>\n",
       "  <th>Model:</th>                   <td>OLS</td>       <th>  Adj. R-squared:    </th> <td>   0.066</td>\n",
       "</tr>\n",
       "<tr>\n",
       "  <th>Method:</th>             <td>Least Squares</td>  <th>  F-statistic:       </th> <td>   3.100</td>\n",
       "</tr>\n",
       "<tr>\n",
       "  <th>Date:</th>             <td>Fri, 15 Dec 2017</td> <th>  Prob (F-statistic):</th>  <td>0.0183</td> \n",
       "</tr>\n",
       "<tr>\n",
       "  <th>Time:</th>                 <td>01:36:36</td>     <th>  Log-Likelihood:    </th> <td> -319.85</td>\n",
       "</tr>\n",
       "<tr>\n",
       "  <th>No. Observations:</th>      <td>   120</td>      <th>  AIC:               </th> <td>   649.7</td>\n",
       "</tr>\n",
       "<tr>\n",
       "  <th>Df Residuals:</th>          <td>   115</td>      <th>  BIC:               </th> <td>   663.6</td>\n",
       "</tr>\n",
       "<tr>\n",
       "  <th>Df Model:</th>              <td>     4</td>      <th>                     </th>     <td> </td>   \n",
       "</tr>\n",
       "<tr>\n",
       "  <th>Covariance Type:</th>      <td>nonrobust</td>    <th>                     </th>     <td> </td>   \n",
       "</tr>\n",
       "</table>\n",
       "<table class=\"simpletable\">\n",
       "<tr>\n",
       "      <td></td>         <th>coef</th>     <th>std err</th>      <th>t</th>      <th>P>|t|</th>  <th>[0.025</th>    <th>0.975]</th>  \n",
       "</tr>\n",
       "<tr>\n",
       "  <th>Intercept</th> <td>   -0.9606</td> <td>    0.618</td> <td>   -1.553</td> <td> 0.123</td> <td>   -2.186</td> <td>    0.265</td>\n",
       "</tr>\n",
       "<tr>\n",
       "  <th>Pos[T.PF]</th> <td>    0.3258</td> <td>    0.965</td> <td>    0.338</td> <td> 0.736</td> <td>   -1.586</td> <td>    2.237</td>\n",
       "</tr>\n",
       "<tr>\n",
       "  <th>Pos[T.PG]</th> <td>    2.6106</td> <td>    1.041</td> <td>    2.508</td> <td> 0.014</td> <td>    0.548</td> <td>    4.673</td>\n",
       "</tr>\n",
       "<tr>\n",
       "  <th>Pos[T.SF]</th> <td>    0.8515</td> <td>    0.978</td> <td>    0.871</td> <td> 0.386</td> <td>   -1.086</td> <td>    2.789</td>\n",
       "</tr>\n",
       "<tr>\n",
       "  <th>Pos[T.SG]</th> <td>   -1.1644</td> <td>    0.953</td> <td>   -1.222</td> <td> 0.224</td> <td>   -3.052</td> <td>    0.724</td>\n",
       "</tr>\n",
       "</table>\n",
       "<table class=\"simpletable\">\n",
       "<tr>\n",
       "  <th>Omnibus:</th>       <td> 2.811</td> <th>  Durbin-Watson:     </th> <td>   1.159</td>\n",
       "</tr>\n",
       "<tr>\n",
       "  <th>Prob(Omnibus):</th> <td> 0.245</td> <th>  Jarque-Bera (JB):  </th> <td>   2.816</td>\n",
       "</tr>\n",
       "<tr>\n",
       "  <th>Skew:</th>          <td>-0.026</td> <th>  Prob(JB):          </th> <td>   0.245</td>\n",
       "</tr>\n",
       "<tr>\n",
       "  <th>Kurtosis:</th>      <td> 3.749</td> <th>  Cond. No.          </th> <td>    5.11</td>\n",
       "</tr>\n",
       "</table>"
      ],
      "text/plain": [
       "<class 'statsmodels.iolib.summary.Summary'>\n",
       "\"\"\"\n",
       "                            OLS Regression Results                            \n",
       "==============================================================================\n",
       "Dep. Variable:                    BPM   R-squared:                       0.097\n",
       "Model:                            OLS   Adj. R-squared:                  0.066\n",
       "Method:                 Least Squares   F-statistic:                     3.100\n",
       "Date:                Fri, 15 Dec 2017   Prob (F-statistic):             0.0183\n",
       "Time:                        01:36:36   Log-Likelihood:                -319.85\n",
       "No. Observations:                 120   AIC:                             649.7\n",
       "Df Residuals:                     115   BIC:                             663.6\n",
       "Df Model:                           4                                         \n",
       "Covariance Type:            nonrobust                                         \n",
       "==============================================================================\n",
       "                 coef    std err          t      P>|t|      [0.025      0.975]\n",
       "------------------------------------------------------------------------------\n",
       "Intercept     -0.9606      0.618     -1.553      0.123      -2.186       0.265\n",
       "Pos[T.PF]      0.3258      0.965      0.338      0.736      -1.586       2.237\n",
       "Pos[T.PG]      2.6106      1.041      2.508      0.014       0.548       4.673\n",
       "Pos[T.SF]      0.8515      0.978      0.871      0.386      -1.086       2.789\n",
       "Pos[T.SG]     -1.1644      0.953     -1.222      0.224      -3.052       0.724\n",
       "==============================================================================\n",
       "Omnibus:                        2.811   Durbin-Watson:                   1.159\n",
       "Prob(Omnibus):                  0.245   Jarque-Bera (JB):                2.816\n",
       "Skew:                          -0.026   Prob(JB):                        0.245\n",
       "Kurtosis:                       3.749   Cond. No.                         5.11\n",
       "==============================================================================\n",
       "\n",
       "Warnings:\n",
       "[1] Standard Errors assume that the covariance matrix of the errors is correctly specified.\n",
       "\"\"\""
      ]
     },
     "execution_count": 868,
     "metadata": {},
     "output_type": "execute_result"
    }
   ],
   "source": [
    " #Fit the third regression\n",
    "regression3 = ols(formula='BPM ~ Pos', data=GSW).fit()\n",
    "regression3.summary()"
   ]
  }
 ],
 "metadata": {
  "kernelspec": {
   "display_name": "Python 3",
   "language": "python",
   "name": "python3"
  },
  "language_info": {
   "codemirror_mode": {
    "name": "ipython",
    "version": 3
   },
   "file_extension": ".py",
   "mimetype": "text/x-python",
   "name": "python",
   "nbconvert_exporter": "python",
   "pygments_lexer": "ipython3",
   "version": "3.6.2"
  }
 },
 "nbformat": 4,
 "nbformat_minor": 2
}
